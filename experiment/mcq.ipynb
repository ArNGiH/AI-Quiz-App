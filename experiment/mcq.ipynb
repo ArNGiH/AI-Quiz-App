{
 "cells": [
  {
   "cell_type": "code",
   "execution_count": 75,
   "id": "4f5e74c4",
   "metadata": {},
   "outputs": [],
   "source": [
    "import os\n",
    "import json\n",
    "import pandas as pd\n",
    "import traceback"
   ]
  },
  {
   "cell_type": "code",
   "execution_count": 76,
   "id": "c4825fcb",
   "metadata": {},
   "outputs": [
    {
     "data": {
      "text/plain": [
       "True"
      ]
     },
     "execution_count": 76,
     "metadata": {},
     "output_type": "execute_result"
    }
   ],
   "source": [
    "from dotenv import load_dotenv\n",
    "load_dotenv()"
   ]
  },
  {
   "cell_type": "code",
   "execution_count": 77,
   "id": "5c28a91f",
   "metadata": {},
   "outputs": [],
   "source": [
    "mykey=os.getenv(\"OPENAI_API_KEY\")"
   ]
  },
  {
   "cell_type": "code",
   "execution_count": 78,
   "id": "933153b2",
   "metadata": {},
   "outputs": [],
   "source": [
    "\n",
    "from langchain.chat_models import ChatOpenAI\n",
    "\n",
    "llm = ChatOpenAI(\n",
    "    api_key=mykey,\n",
    "    model=\"gpt-4o-mini\",\n",
    "    temperature=0.4 \n",
    ")"
   ]
  },
  {
   "cell_type": "code",
   "execution_count": 79,
   "id": "689f9162",
   "metadata": {},
   "outputs": [],
   "source": [
    "from langchain.llms import OpenAI\n",
    "from langchain.prompts import PromptTemplate\n",
    "from langchain.chains import LLMChain\n",
    "from langchain.chains import SequentialChain\n",
    "from langchain.callbacks import get_openai_callback\n",
    "import PyPDF2\n"
   ]
  },
  {
   "cell_type": "code",
   "execution_count": 100,
   "id": "44fde20c",
   "metadata": {},
   "outputs": [],
   "source": [
    "TEMPLATE=\"\"\"\n",
    "Text:{text}\n",
    "You are an expert MCQ maker. Given the above text, it is your job to \\\n",
    "create a quiz of {number} multiple choice questions for {subject} students in {tone} tone.\n",
    "Make sure the questions are not repeated and check all the questions to be conforming the text as well.\n",
    "Make sure to format your response like RESPONSE_JSON below and use it as a guide. Response json must be a valid json . Do not send invalid jsons .  Return ONLY a valid JSON object matching this schema (no markdown, no comments, no prose):\\n\n",
    "        \"{response_json}\\n\"\\\n",
    "Ensure to make {number} MCQs\n",
    "### RESPONSE_JSON\n",
    "{response_json}\n",
    "\"\"\"\n"
   ]
  },
  {
   "cell_type": "code",
   "execution_count": 101,
   "id": "12fefcba",
   "metadata": {},
   "outputs": [],
   "source": [
    "quiz_generation_prompt=PromptTemplate(\n",
    "    input_variables=[\"text\",\"number\",\"subject\",\"tone\",\"response_json\"],\n",
    "    template=TEMPLATE\n",
    ")"
   ]
  },
  {
   "cell_type": "code",
   "execution_count": 102,
   "id": "74aa18c6",
   "metadata": {},
   "outputs": [],
   "source": [
    "RESPONSE_JSON = {\n",
    "    \"1\": {\n",
    "        \"mcq\": \"multiple choice question\",\n",
    "        \"options\": {\n",
    "            \"a\": \"choice here\",\n",
    "            \"b\": \"choice here\",\n",
    "            \"c\": \"choice here\",\n",
    "            \"d\": \"choice here\"\n",
    "        },\n",
    "        \"correct\": \"correct answer\"\n",
    "    },\n",
    "    \"2\": {\n",
    "        \"mcq\": \"multiple choice question\",\n",
    "        \"options\": {\n",
    "            \"a\": \"choice here\",\n",
    "            \"b\": \"choice here\",\n",
    "            \"c\": \"choice here\",\n",
    "            \"d\": \"choice here\"\n",
    "        },\n",
    "        \"correct\": \"correct answer\"\n",
    "    },\n",
    "    \"3\": {\n",
    "        \"mcq\": \"multiple choice question\",\n",
    "        \"options\": {\n",
    "            \"a\": \"choice here\",\n",
    "            \"b\": \"choice here\",\n",
    "            \"c\": \"choice here\",\n",
    "            \"d\": \"choice here\"\n",
    "        },\n",
    "        \"correct\": \"correct answer\"\n",
    "    },\n",
    "    \"4\": {\n",
    "        \"mcq\": \"multiple choice question\",\n",
    "        \"options\": {\n",
    "            \"a\": \"choice here\",\n",
    "            \"b\": \"choice here\",\n",
    "            \"c\": \"choice here\",\n",
    "            \"d\": \"choice here\"\n",
    "        },\n",
    "        \"correct\": \"correct answer\"\n",
    "    }\n",
    "}\n"
   ]
  },
  {
   "cell_type": "code",
   "execution_count": 103,
   "id": "82a38434",
   "metadata": {},
   "outputs": [],
   "source": [
    "quiz_chain=LLMChain(llm=llm,prompt=quiz_generation_prompt,output_key=\"quiz\",verbose=True)"
   ]
  },
  {
   "cell_type": "code",
   "execution_count": 104,
   "id": "7e592290",
   "metadata": {},
   "outputs": [],
   "source": [
    "TEMPLATE2 = \"\"\"\n",
    "You are an expert english grammarian and writer. Given a Multiple Choice Quiz for {subject} students.\\\n",
    "You need to evaluate the complexity of the question and give a complete analysis of the quiz. Only use at max 50 words for complexity.\\\n",
    "If the quiz is not at par with the cognitive and analytical abilities of the students,\\\n",
    "update the quiz questions which needs to be changed and change the tone such that it perfectly fits the students abilities.\\\n",
    "Quiz_MCQs:\n",
    "{quiz}\n",
    "\n",
    "Check from an expert English Writer of the above quiz:\n",
    "\"\"\"\n"
   ]
  },
  {
   "cell_type": "code",
   "execution_count": 105,
   "id": "128ad229",
   "metadata": {},
   "outputs": [],
   "source": [
    "quiz_evaluation_prompt=PromptTemplate(input_variables=[\"subjects\",\"quiz\"],template=TEMPLATE2)"
   ]
  },
  {
   "cell_type": "code",
   "execution_count": 106,
   "id": "20270c25",
   "metadata": {},
   "outputs": [],
   "source": [
    "review_chain=LLMChain(llm=llm,prompt=quiz_evaluation_prompt,output_key=\"review\",verbose=True)"
   ]
  },
  {
   "cell_type": "code",
   "execution_count": 108,
   "id": "63f4aebd",
   "metadata": {},
   "outputs": [],
   "source": [
    "generate_evaluate_chain = SequentialChain(\n",
    "    chains=[quiz_chain, review_chain],\n",
    "    input_variables=[\"text\", \"number\", \"subject\", \"tone\", \"response_json\"],\n",
    "    output_variables=[\"quiz\", \"review\"],\n",
    "    verbose=True,\n",
    ")\n"
   ]
  },
  {
   "cell_type": "code",
   "execution_count": 109,
   "id": "46c00160",
   "metadata": {},
   "outputs": [],
   "source": [
    "file_path=\"/Users/aryannayar/Downloads/mcqgen/data.txt\""
   ]
  },
  {
   "cell_type": "code",
   "execution_count": 110,
   "id": "899a57a7",
   "metadata": {},
   "outputs": [],
   "source": [
    "with open(file_path,\"r\") as file:\n",
    "    TEXT=file.read()"
   ]
  },
  {
   "cell_type": "code",
   "execution_count": 134,
   "id": "f56c4d21",
   "metadata": {},
   "outputs": [],
   "source": [
    "NUMBER=10,\n",
    "SUBJECT=\"Cat study\",\n",
    "TONE=\"VERY HARD\""
   ]
  },
  {
   "cell_type": "code",
   "execution_count": 135,
   "id": "8729ca69",
   "metadata": {},
   "outputs": [
    {
     "data": {
      "text/plain": [
       "'{\"1\": {\"mcq\": \"multiple choice question\", \"options\": {\"a\": \"choice here\", \"b\": \"choice here\", \"c\": \"choice here\", \"d\": \"choice here\"}, \"correct\": \"correct answer\"}, \"2\": {\"mcq\": \"multiple choice question\", \"options\": {\"a\": \"choice here\", \"b\": \"choice here\", \"c\": \"choice here\", \"d\": \"choice here\"}, \"correct\": \"correct answer\"}, \"3\": {\"mcq\": \"multiple choice question\", \"options\": {\"a\": \"choice here\", \"b\": \"choice here\", \"c\": \"choice here\", \"d\": \"choice here\"}, \"correct\": \"correct answer\"}, \"4\": {\"mcq\": \"multiple choice question\", \"options\": {\"a\": \"choice here\", \"b\": \"choice here\", \"c\": \"choice here\", \"d\": \"choice here\"}, \"correct\": \"correct answer\"}}'"
      ]
     },
     "execution_count": 135,
     "metadata": {},
     "output_type": "execute_result"
    }
   ],
   "source": [
    "json.dumps(RESPONSE_JSON)"
   ]
  },
  {
   "cell_type": "code",
   "execution_count": 136,
   "id": "7bb2c596",
   "metadata": {},
   "outputs": [
    {
     "name": "stderr",
     "output_type": "stream",
     "text": [
      "Error in StdOutCallbackHandler.on_chain_start callback: AttributeError(\"'NoneType' object has no attribute 'get'\")\n",
      "Error in StdOutCallbackHandler.on_chain_start callback: AttributeError(\"'NoneType' object has no attribute 'get'\")\n"
     ]
    },
    {
     "name": "stdout",
     "output_type": "stream",
     "text": [
      "Prompt after formatting:\n",
      "\u001b[32;1m\u001b[1;3m\n",
      "Text:The cat (Felis catus), also referred to as the domestic cat or house cat, is a small domesticated carnivorous mammal. It is the only domesticated species of the family Felidae. Advances in archaeology and genetics have shown that the domestication of the cat occurred in the Near East around 7500 BC. It is commonly kept as a pet and working cat, but also ranges freely as a feral cat avoiding human contact. It is valued by humans for companionship and its ability to kill vermin. Its retractable claws are adapted to killing small prey species such as mice and rats. It has a strong, flexible body, quick reflexes, and sharp teeth, and its night vision and sense of smell are well developed. It is a social species, but a solitary hunter and a crepuscular predator.\n",
      "\n",
      "Cat intelligence is evident in their ability to adapt, learn through observation, and solve problems. Research has shown they possess strong memories, exhibit neuroplasticity, and display cognitive skills comparable to those of a young child. Cat communication includes meowing, purring, trilling, hissing, growling, grunting, and body language. It can hear sounds too faint or too high in frequency for human ears, such as those made by small mammals. It secretes and perceives pheromones.\n",
      "\n",
      "Female domestic cats can have kittens from spring to late autumn in temperate zones and throughout the year in equatorial regions, with litter sizes often ranging from two to five kittens. Domestic cats are bred and shown at cat fancy events as registered pedigreed cats. Population control includes spaying and neutering, but pet abandonment has exploded the global feral cat population, which has driven the extinction of bird, mammal, and reptile species.\n",
      "\n",
      "Domestic cats are found across the globe, though their popularity as pets varies by region. Out of the estimated 600 million cats worldwide, 400 million reside in Asia, including 58 million pet cats in China. The United States leads in cat ownership with 73.8 million cats. In the United Kingdom, approximately 10.9 million domestic cats are kept as pets.\n",
      "\n",
      "Etymology and naming\n",
      "The origin of the English word cat, Old English catt, is thought to be the Late Latin word cattus, which was first used at the beginning of the 6th century.[4] The Late Latin word may be derived from an unidentified African language.[5] The Nubian word kaddîska (wildcat) and Nobiin kadīs are possible sources or cognates.[6]\n",
      "\n",
      "The forms might also have derived from an ancient Germanic word that was absorbed into Latin and then into Greek, Syriac, and Arabic.[7] The word may be derived from Germanic and Northern European languages, and ultimately be borrowed from Uralic, cf. Northern Sámi gáđfi, female stoat, and Hungarian hölgy, lady, female stoat; from Proto-Uralic *käďwä, female (of a furred animal).[8]\n",
      "\n",
      "The English puss, extended as pussy and pussycat, is attested from the 16th century and may have been introduced from Dutch poes or from Low German puuskatte, related to Swedish kattepus, or Norwegian pus, pusekatt. Similar forms exist in Lithuanian puižė and Irish puisín or puiscín. The etymology is unknown, but it may be an onomatopoeia from using a sound to attract a cat.[9][10]\n",
      "\n",
      "A male cat is called a tom or tomcat[11] (or a gib,[12] if neutered). A female is called a queen.[13] Some sources write that queen refers solely to unspayed cats that are in an estrous cycle.[14] (or sometimes a molly,[15] if spayed). A juvenile cat is referred to as a kitten, a term interchangeable with the now-obsolete word catling in Early Modern English.[16] A group of cats can be referred to as a clowder, a glaring,[17] or a colony.[18]\n",
      "\n",
      "Taxonomy\n",
      "The scientific name Felis catus was proposed by Carl Linnaeus in 1758 for a domestic cat.[1][2] Felis catus domesticus was proposed by Johann Christian Polycarp Erxleben in 1777.[3] Felis daemon proposed by Konstantin Satunin in 1904 was a black cat from the Transcaucasus, later identified as a domestic cat.[19][20]\n",
      "\n",
      "In 2003, the International Commission on Zoological Nomenclature ruled that the domestic cat is a distinct species, namely Felis catus.[21][22] In 2007, the modern domesticated subspecies F. silvestris catus sampled worldwide was considered to have probably descended from the African wildcat (F. lybica), following results of phylogenetic research.[23][24][a] In 2017, the IUCN Cat Classification Taskforce followed the recommendation of the ICZN in regarding the domestic cat as a distinct species, Felis catus.[25]\n",
      "\n",
      "Evolution\n",
      "Main article: Cat evolution\n",
      "\n",
      "Skulls of a wildcat (top left), a housecat (top right), and a hybrid between the two (bottom center)\n",
      "The domestic cat is a member of the Felidae, a family that has a common ancestor from about 10 to 15 million years ago.[26] The evolutionary radiation of the Felidae began in Asia during the Miocene around 8.38 to 14.45 million years ago.[27] Analysis of mitochondrial DNA of all Felidae species indicates a radiation at 6.46 to 16.76 million years ago.[28] The genus Felis genetically diverged from other Felidae around 6 to 7 million years ago.[27] Results of phylogenetic research shows that the wild members of this genus evolved through sympatric or parapatric speciation, whereas the domestic cat evolved through artificial selection.[29] The domestic cat and its closest wild ancestor are diploid and both possess 38 chromosomes[30] and roughly 20,000 genes.[31]\n",
      "\n",
      "Phylogenetic relationships of the domestic cat as derived through analysis of\n",
      "nuclear DNA:[27][28]\n",
      "Felidae\t\n",
      "Pantherinae\n",
      "\n",
      "Felinae\t\n",
      "other Felinae lineages\n",
      "\n",
      "Felis\t\n",
      "Jungle cat (F. chaus) \n",
      "\n",
      "Black-footed cat (F. nigripes)\n",
      "\n",
      "Sand cat (F. margarita)\n",
      "\n",
      "Chinese mountain cat (F. bieti)\n",
      "\n",
      "African wildcat (F. lybica)\n",
      "\n",
      "European wildcat (F. silvestris) \n",
      "\n",
      "Domestic cat \n",
      "\n",
      "mitochondrial DNA:[32]\n",
      "Felis\t\n",
      "Sand cat (F. margarita)\n",
      "\n",
      "Chinese mountain cat (F. bieti)\n",
      "\n",
      "European wildcat (F. silvestris) \n",
      "\n",
      "African wildcat\t\n",
      "Southern African wildcat (F. l. cafra)\n",
      "\n",
      "Asiatic wildcat (F. l. ornata)\n",
      "\n",
      "Near Eastern wildcat\n",
      "\n",
      "Domestic cat \n",
      "\n",
      "Domestication\n",
      "See also: Domestication of the cat and Cats in ancient Egypt\n",
      "\n",
      "A cat eats a fish under a chair, in a mural in an Egyptian tomb dating to the 15th century BC.\n",
      "It was long thought that the domestication of the cat began in ancient Egypt, where cats were venerated from around 3100 BC.[33][34] However, the earliest known indication for the taming of an African wildcat was excavated close by a human Neolithic grave in Shillourokambos, southern Cyprus, dating to about 7500–7200 BC. Since there is no evidence of native mammalian fauna on Cyprus, the inhabitants of this Neolithic village most likely brought the cat and other wild mammals to the island from the Middle Eastern mainland.[35] Scientists therefore assume that African wildcats were attracted to early human settlements in the Fertile Crescent by rodents, in particular the house mouse (Mus musculus), and were tamed by Neolithic farmers. This mutual relationship between early farmers and tamed cats lasted thousands of years. As agricultural practices spread, so did tame and domesticated cats.[32][36] Wildcats of Egypt contributed to the maternal gene pool of the domestic cat at a later time.[37]\n",
      "\n",
      "The earliest known evidence for the occurrence of the domestic cat in Greece dates to around 1200 BC. Greek, Phoenician, Carthaginian and Etruscan traders introduced domestic cats to southern Europe.[38] By the 5th century BC, they were familiar animals around settlements in Magna Graecia and Etruria.[39] During the Roman Empire, they were introduced to Corsica and Sardinia before the beginning of the 1st century AD.[40] By the end of the Western Roman Empire in the 5th century, the Egyptian domestic cat lineage had arrived in a Baltic Sea port in northern Germany.[37]\n",
      "\n",
      "The leopard cat (Prionailurus bengalensis) was tamed independently in China around 5500 BC. This line of partially domesticated cats leaves no trace in the domestic cat populations of today.[41]\n",
      "\n",
      "During domestication, cats have undergone only minor changes in anatomy and behavior, and they are still capable of surviving in the wild. Several natural behaviors and characteristics of wildcats may have pre-adapted them for domestication as pets. These traits include their small size, social nature, obvious body language, love of play, and high intelligence. Their rigorous grooming habits and instinct to bury their bodily waste make them generally much less messy than other domesticated animals. Captive Leopardus cats may also display affectionate behavior toward humans but are not domesticated.[42] House cats may mate with feral cats.[43] Hybridization between domestic and other Felinae species is also possible, producing hybrids such as the Kellas cat in Scotland.[44][45]\n",
      "\n",
      "Development of cat breeds started in the mid 19th century.[46] An analysis of the domestic cat genome revealed that the ancestral wildcat genome was significantly altered in the process of domestication, as specific mutations were selected to develop cat breeds.[47] Most breeds are founded on random-bred domestic cats. Genetic diversity of these breeds varies between regions, and is lowest in purebred populations, which show more than 20 deleterious genetic disorders.[48]\n",
      "\n",
      "Characteristics\n",
      "Main article: Cat anatomy\n",
      "Size\n",
      "\n",
      "Diagram of the general anatomy of a male domestic cat\n",
      "The domestic cat has a smaller skull and shorter bones than the European wildcat.[49] It averages about 46 cm (18 in) in head-to-body length and 23–25 cm (9.1–9.8 in) in height, with about 30 cm (12 in) long tails. Males are larger than females.[50] Adult domestic cats typically weigh 4–5 kg (8.8–11.0 lb).[29]\n",
      "\n",
      "Skeleton\n",
      "Cats have seven cervical vertebrae (as do most mammals); 13 thoracic vertebrae (humans have 12); seven lumbar vertebrae (humans have five); three sacral vertebrae (as do most mammals, but humans have five); and a variable number of caudal vertebrae in the tail (humans have only three to five vestigial caudal vertebrae, fused into an internal coccyx).[51]: 11  The extra lumbar and thoracic vertebrae account for the cat's spinal mobility and flexibility. Attached to the spine are 13 ribs, the shoulder, and the pelvis.[51]: 16  Unlike human arms, cat forelimbs are attached to the shoulder by free-floating clavicle bones which allow them to pass their body through any space into which they can fit their head.[52]\n",
      "\n",
      "Skull\n",
      "\n",
      "Cat skull\n",
      "The cat skull is unusual among mammals in having very large eye sockets and a powerful specialized jaw.[53]: 35  Two long canine teeth for killing and tearing prey, can stab between two of the prey's vertebrae and sever its spinal cord, causing paralysis and death.[54] Compared to other felines, domestic cats have narrowly spaced canine teeth relative to the size of their jaw, which is an adaptation to their preferred prey of small rodents, which have small vertebrae.[54]\n",
      "\n",
      "The premolar and first molar together compose the carnassial pair on each side of the mouth, which efficiently shears meat into small pieces, like a pair of scissors. These are vital in feeding, because cats' small molars cannot chew food effectively, and cats are largely incapable of mastication.[53]: 37  Cats tend to have better dental health than most humans, with decay generally less likely because of a thicker protective layer of enamel, a less damaging saliva, less retention of food particles between teeth, and a diet mostly devoid of sugar. Nonetheless, they are subject to occasional tooth loss and infection.[55]\n",
      "\n",
      "Claws\n",
      "\n",
      "Cat's claw\n",
      "Cats have protractible and retractable claws.[56] In their normal, relaxed position, the claws are sheathed with the skin and fur around the paw's toe pads. This keeps the claws sharp by preventing wear from contact with the ground and allows for the silent stalking of prey. The claws on the forefeet are typically sharper than those on the hindfeet.[57] Cats can voluntarily extend their claws, such as in hunting, fighting, climbing, kneading, or for extra traction on soft surfaces. Cats shed the outside layer of their claw sheaths when scratching rough surfaces.[58]\n",
      "\n",
      "Most cats have five claws on their front paws and four on their rear paws. The dewclaw is proximal to the other claws. More proximally is a protrusion which appears to be a sixth \"finger\". This special feature of the front paws on the inside of the wrists has no function in normal walking but is thought to be an antiskidding device used while jumping. Some cat breeds are prone to having extra digits (\"polydactyly\").[59]\n",
      "\n",
      "Ambulation\n",
      "The cat is digitigrade. It walks on the toes, with the bones of the feet making up the lower part of the visible leg.[60] Unlike most mammals, it uses a \"pacing\" gait that alternates both legs together on each side. It registers directly by placing each hind paw close to the track of the corresponding fore paw, minimizing noise and visible tracks. This also provides sure footing for hind paws when navigating rough terrain. As it speeds up from walking to trotting, its gait changes to a \"diagonal\" gait: The diagonally opposite hind and fore legs move simultaneously.[61]\n",
      "\n",
      "Balance\n",
      "\n",
      "A cat perched on a tree branch, having climbed up for exploration, escape, or hunting.\n",
      "Cats are generally fond of perching in high places. This may be a concealed hunting site such as a tree branch, for domestic cats to pounce upon prey. They favor a superior observation point over territory. A cat falling from up to 3 m (9.8 ft) can right itself and land on its paws.[62]\n",
      "\n",
      "During a lofty fall, a cat reflexively twists and rights itself to land on its feet using its acute sense of balance and flexibility. This reflex is known as the cat righting reflex.[63] A cat always rights itself in the same way, and it has enough time in falls of at least 90 cm (3.0 ft).[64] This has been investigated as the \"falling cat problem\".[65]\n",
      "\n",
      "Coats\n",
      "Main article: Cat coat genetics\n",
      "See also: Tabby cat\n",
      "\n",
      "Mother cat with her different-colored offspring\n",
      "The cat family (Felidae) can pass down many colors and patterns to their offspring. The domestic cat genes MC1R and ASIP allow color variety in their coats. The feline ASIP gene consists of three coding exons.[66] Three novel microsatellite markers linked to ASIP were isolated from a domestic cat BAC clone containing this gene to perform linkage analysis on 89 domestic cats segregated for melanism. The domestic cat family demonstrated a cosegregation between the ASIP allele and coat black coloration.[67]\n",
      "\n",
      "Senses\n",
      "Main article: Cat senses\n",
      "Vision\n",
      "A tabby cat with a third, translucent eyelid covering part of either eye\n",
      "A cat's nictitating membrane is exposed as it blinks.\n",
      "Cats have excellent night vision and can see at one sixth the light level required for human vision.[53]: 43  This is partly the result of cat eyes having a tapetum lucidum, which reflects any light that passes through the retina back into the eye, thereby increasing the eye's sensitivity to dim light.[68] Large pupils are an adaptation to dim light. The domestic cat has slit pupils, which allow it to focus bright light without chromatic aberration.[69] At low light, a cat's pupils expand to cover most of the exposed surface of its eyes.[70] The domestic cat has rather poor color vision and only two types of cone cells, optimized for sensitivity to blue and yellowish green; its ability to distinguish between red and green is limited.[71] A response to middle wavelengths from a system other than the rod cells might be due to a third type of cone. This appears to be an adaptation to low light levels rather than representing true trichromatic vision.[72] Cats have a nictitating membrane, allowing them to blink without hindering their vision.\n",
      "\n",
      "Hearing\n",
      "The domestic cat's hearing is most acute in the range of 500 Hz to 32 kHz.[73] It can detect an extremely broad range of frequencies ranging from 55 Hz to 79 kHz, whereas humans can only detect frequencies between 20 Hz and 20 kHz. It can hear a range of 10.5 octaves, compared to about 9 octaves for humans and dogs.[74][75] Its hearing sensitivity is enhanced by its large movable outer ears, the pinnae, which amplify sounds and help detect the location of a noise. It can detect ultrasound, including ultrasonic calls from rodent prey.[76][77] Research has shown that cats have socio-spatial cognitive abilities to create mental maps of familiar people's locations based on hearing their voices.[78]\n",
      "\n",
      "Smell\n",
      "Cats have an acute sense of smell, due in part to their well-developed olfactory bulb and a large surface of olfactory mucosa, about 5.8 cm2 (0.90 in2) in area, which is about twice that of humans.[79] Cats and many other animals have a Jacobson's organ in their mouths that is used in the behavioral process of flehmening. It allows them to sense certain aromas in a way that humans cannot. Cats are sensitive to pheromones such as 3-mercapto-3-methylbutan-1-ol,[80] which they use to communicate through urine spraying and marking with scent glands.[81] Many cats also respond strongly to plants that contain nepetalactone, especially catnip, which they can detect at less than one part per billion.[82] About 70–80% of cats are affected by nepetalactone.[83] This response is also produced by other plants, such as silver vine (Actinidia polygama) and the herb valerian; it may be caused by the smell of these plants mimicking a pheromone and stimulating cats' social or sexual behaviors.[84]\n",
      "\n",
      "Taste\n",
      "Cats have about 470 taste buds, compared to more than 9,000 on the human tongue.[85] Domestic and wild cats share a taste receptor gene mutation that keeps their sweet taste buds from binding to sugary molecules, leaving them with no ability to taste sweetness.[86] But they do have taste bud receptors specialized for acids, amino acids such as the constituents of protein, and bitter tastes.[87]\n",
      "\n",
      "Cats' taste buds possess the receptors needed to detect umami. However, these receptors contain molecular changes that make them taste umami differently from humans. In humans, they detect the amino acids glutamic acid and aspartic acid; but in cats, they instead detect inosine monophosphate and histidine.[88] These molecules are particularly enriched in tuna.[88] Researchers argue why cats find tuna so palatable: \"the specific combination of the high IMP and free histidine contents of tuna, which produces a strong umami taste synergy that is highly preferred by cats.\"[88] One researcher said, \"I think umami is as important for cats as sweet is for humans.\"[89]\n",
      "\n",
      "Cats distinctly prefer food temperature around 38 °C (100 °F), similar to a fresh kill. Some cats reject cold food, which would signal to the cat that the prey is long dead and therefore possibly toxic or decomposing.[85]\n",
      "You are an expert MCQ maker. Given the above text, it is your job to create a quiz of (10,) multiple choice questions for ('Cat study',) students in VERY HARD tone.\n",
      "Make sure the questions are not repeated and check all the questions to be conforming the text as well.\n",
      "Make sure to format your response like RESPONSE_JSON below and use it as a guide. Response json must be a valid json . Do not send invalid jsons .  Return ONLY a valid JSON object matching this schema (no markdown, no comments, no prose):\n",
      "\n",
      "        \"{\"1\": {\"mcq\": \"multiple choice question\", \"options\": {\"a\": \"choice here\", \"b\": \"choice here\", \"c\": \"choice here\", \"d\": \"choice here\"}, \"correct\": \"correct answer\"}, \"2\": {\"mcq\": \"multiple choice question\", \"options\": {\"a\": \"choice here\", \"b\": \"choice here\", \"c\": \"choice here\", \"d\": \"choice here\"}, \"correct\": \"correct answer\"}, \"3\": {\"mcq\": \"multiple choice question\", \"options\": {\"a\": \"choice here\", \"b\": \"choice here\", \"c\": \"choice here\", \"d\": \"choice here\"}, \"correct\": \"correct answer\"}, \"4\": {\"mcq\": \"multiple choice question\", \"options\": {\"a\": \"choice here\", \"b\": \"choice here\", \"c\": \"choice here\", \"d\": \"choice here\"}, \"correct\": \"correct answer\"}}\n",
      "\"Ensure to make (10,) MCQs\n",
      "### RESPONSE_JSON\n",
      "{\"1\": {\"mcq\": \"multiple choice question\", \"options\": {\"a\": \"choice here\", \"b\": \"choice here\", \"c\": \"choice here\", \"d\": \"choice here\"}, \"correct\": \"correct answer\"}, \"2\": {\"mcq\": \"multiple choice question\", \"options\": {\"a\": \"choice here\", \"b\": \"choice here\", \"c\": \"choice here\", \"d\": \"choice here\"}, \"correct\": \"correct answer\"}, \"3\": {\"mcq\": \"multiple choice question\", \"options\": {\"a\": \"choice here\", \"b\": \"choice here\", \"c\": \"choice here\", \"d\": \"choice here\"}, \"correct\": \"correct answer\"}, \"4\": {\"mcq\": \"multiple choice question\", \"options\": {\"a\": \"choice here\", \"b\": \"choice here\", \"c\": \"choice here\", \"d\": \"choice here\"}, \"correct\": \"correct answer\"}}\n",
      "\u001b[0m\n"
     ]
    },
    {
     "name": "stderr",
     "output_type": "stream",
     "text": [
      "Error in StdOutCallbackHandler.on_chain_start callback: AttributeError(\"'NoneType' object has no attribute 'get'\")\n"
     ]
    },
    {
     "name": "stdout",
     "output_type": "stream",
     "text": [
      "\n",
      "\u001b[1m> Finished chain.\u001b[0m\n",
      "Prompt after formatting:\n",
      "\u001b[32;1m\u001b[1;3m\n",
      "You are an expert english grammarian and writer. Given a Multiple Choice Quiz for ('Cat study',) students.You need to evaluate the complexity of the question and give a complete analysis of the quiz. Only use at max 50 words for complexity.If the quiz is not at par with the cognitive and analytical abilities of the students,update the quiz questions which needs to be changed and change the tone such that it perfectly fits the students abilities.Quiz_MCQs:\n",
      "{\"1\": {\"mcq\": \"What is the scientific name for the domestic cat?\", \"options\": {\"a\": \"Felis lybica\", \"b\": \"Felis catus\", \"c\": \"Felis silvestris\", \"d\": \"Felis daemon\"}, \"correct\": \"b\"}, \"2\": {\"mcq\": \"Which gene is linked to coat color variation in domestic cats?\", \"options\": {\"a\": \"MC1R\", \"b\": \"ASIP\", \"c\": \"Felis\", \"d\": \"Proto-Uralic\"}, \"correct\": \"b\"}, \"3\": {\"mcq\": \"At what age did the domestication of cats begin according to archaeological findings?\", \"options\": {\"a\": \"3100 BC\", \"b\": \"7500 BC\", \"c\": \"5500 BC\", \"d\": \"1200 BC\"}, \"correct\": \"b\"}, \"4\": {\"mcq\": \"What term describes a group of cats?\", \"options\": {\"a\": \"Pack\", \"b\": \"Clowder\", \"c\": \"Colony\", \"d\": \"Glaring\"}, \"correct\": \"b\"}, \"5\": {\"mcq\": \"What is the average weight range of an adult domestic cat?\", \"options\": {\"a\": \"2-4 kg\", \"b\": \"4-5 kg\", \"c\": \"5-7 kg\", \"d\": \"7-10 kg\"}, \"correct\": \"b\"}, \"6\": {\"mcq\": \"Which of the following senses is most acute in domestic cats?\", \"options\": {\"a\": \"Taste\", \"b\": \"Vision\", \"c\": \"Hearing\", \"d\": \"Touch\"}, \"correct\": \"c\"}, \"7\": {\"mcq\": \"What reflex allows cats to right themselves during a fall?\", \"options\": {\"a\": \"Balance reflex\", \"b\": \"Righting reflex\", \"c\": \"Falling reflex\", \"d\": \"Pouncing reflex\"}, \"correct\": \"b\"}, \"8\": {\"mcq\": \"Which of the following behaviors is NOT typically associated with domestic cats?\", \"options\": {\"a\": \"Hunting in packs\", \"b\": \"Purring\", \"c\": \"Meowing\", \"d\": \"Trilling\"}, \"correct\": \"a\"}, \"9\": {\"mcq\": \"Which of the following is a common cause of the global feral cat population increase?\", \"options\": {\"a\": \"Increased breeding programs\", \"b\": \"Pet abandonment\", \"c\": \"Natural disasters\", \"d\": \"Wildlife conservation efforts\"}, \"correct\": \"b\"}, \"10\": {\"mcq\": \"Which ancient civilization is often mistakenly credited with the domestication of cats?\", \"options\": {\"a\": \"Greece\", \"b\": \"Egypt\", \"c\": \"China\", \"d\": \"Rome\"}, \"correct\": \"b\"}}\n",
      "\n",
      "Check from an expert English Writer of the above quiz:\n",
      "\u001b[0m\n",
      "\n",
      "\u001b[1m> Finished chain.\u001b[0m\n",
      "\n",
      "\u001b[1m> Finished chain.\u001b[0m\n"
     ]
    }
   ],
   "source": [
    "with get_openai_callback() as cb:\n",
    "    response=generate_evaluate_chain({\n",
    "        \"text\":TEXT,\n",
    "        \"number\":NUMBER,\n",
    "        \"subject\":SUBJECT,\n",
    "        \"tone\":TONE,\n",
    "        \"response_json\":json.dumps(RESPONSE_JSON)\n",
    "    }\n",
    "    )"
   ]
  },
  {
   "cell_type": "code",
   "execution_count": 137,
   "id": "bb8162e8",
   "metadata": {},
   "outputs": [
    {
     "name": "stdout",
     "output_type": "stream",
     "text": [
      "\n",
      "--- Usage Stats ---\n",
      "Total Tokens: 6459\n",
      "Prompt Tokens: 5503\n",
      "Completion Tokens: 956\n",
      "Total Cost: $0.001399\n"
     ]
    }
   ],
   "source": [
    "print(\"\\n--- Usage Stats ---\")\n",
    "print(f\"Total Tokens: {cb.total_tokens}\")\n",
    "print(f\"Prompt Tokens: {cb.prompt_tokens}\")\n",
    "print(f\"Completion Tokens: {cb.completion_tokens}\")\n",
    "print(f\"Total Cost: ${cb.total_cost:.6f}\")\n"
   ]
  },
  {
   "cell_type": "code",
   "execution_count": 138,
   "id": "ee8cabab",
   "metadata": {},
   "outputs": [
    {
     "data": {
      "text/plain": [
       "{'text': 'The cat (Felis catus), also referred to as the domestic cat or house cat, is a small domesticated carnivorous mammal. It is the only domesticated species of the family Felidae. Advances in archaeology and genetics have shown that the domestication of the cat occurred in the Near East around 7500 BC. It is commonly kept as a pet and working cat, but also ranges freely as a feral cat avoiding human contact. It is valued by humans for companionship and its ability to kill vermin. Its retractable claws are adapted to killing small prey species such as mice and rats. It has a strong, flexible body, quick reflexes, and sharp teeth, and its night vision and sense of smell are well developed. It is a social species, but a solitary hunter and a crepuscular predator.\\n\\nCat intelligence is evident in their ability to adapt, learn through observation, and solve problems. Research has shown they possess strong memories, exhibit neuroplasticity, and display cognitive skills comparable to those of a young child. Cat communication includes meowing, purring, trilling, hissing, growling, grunting, and body language. It can hear sounds too faint or too high in frequency for human ears, such as those made by small mammals. It secretes and perceives pheromones.\\n\\nFemale domestic cats can have kittens from spring to late autumn in temperate zones and throughout the year in equatorial regions, with litter sizes often ranging from two to five kittens. Domestic cats are bred and shown at cat fancy events as registered pedigreed cats. Population control includes spaying and neutering, but pet abandonment has exploded the global feral cat population, which has driven the extinction of bird, mammal, and reptile species.\\n\\nDomestic cats are found across the globe, though their popularity as pets varies by region. Out of the estimated 600 million cats worldwide, 400 million reside in Asia, including 58 million pet cats in China. The United States leads in cat ownership with 73.8 million cats. In the United Kingdom, approximately 10.9 million domestic cats are kept as pets.\\n\\nEtymology and naming\\nThe origin of the English word cat, Old English catt, is thought to be the Late Latin word cattus, which was first used at the beginning of the 6th century.[4] The Late Latin word may be derived from an unidentified African language.[5] The Nubian word kaddîska (wildcat) and Nobiin kadīs are possible sources or cognates.[6]\\n\\nThe forms might also have derived from an ancient Germanic word that was absorbed into Latin and then into Greek, Syriac, and Arabic.[7] The word may be derived from Germanic and Northern European languages, and ultimately be borrowed from Uralic, cf. Northern Sámi gáđfi, female stoat, and Hungarian hölgy, lady, female stoat; from Proto-Uralic *käďwä, female (of a furred animal).[8]\\n\\nThe English puss, extended as pussy and pussycat, is attested from the 16th century and may have been introduced from Dutch poes or from Low German puuskatte, related to Swedish kattepus, or Norwegian pus, pusekatt. Similar forms exist in Lithuanian puižė and Irish puisín or puiscín. The etymology is unknown, but it may be an onomatopoeia from using a sound to attract a cat.[9][10]\\n\\nA male cat is called a tom or tomcat[11] (or a gib,[12] if neutered). A female is called a queen.[13] Some sources write that queen refers solely to unspayed cats that are in an estrous cycle.[14] (or sometimes a molly,[15] if spayed). A juvenile cat is referred to as a kitten, a term interchangeable with the now-obsolete word catling in Early Modern English.[16] A group of cats can be referred to as a clowder, a glaring,[17] or a colony.[18]\\n\\nTaxonomy\\nThe scientific name Felis catus was proposed by Carl Linnaeus in 1758 for a domestic cat.[1][2] Felis catus domesticus was proposed by Johann Christian Polycarp Erxleben in 1777.[3] Felis daemon proposed by Konstantin Satunin in 1904 was a black cat from the Transcaucasus, later identified as a domestic cat.[19][20]\\n\\nIn 2003, the International Commission on Zoological Nomenclature ruled that the domestic cat is a distinct species, namely Felis catus.[21][22] In 2007, the modern domesticated subspecies F. silvestris catus sampled worldwide was considered to have probably descended from the African wildcat (F. lybica), following results of phylogenetic research.[23][24][a] In 2017, the IUCN Cat Classification Taskforce followed the recommendation of the ICZN in regarding the domestic cat as a distinct species, Felis catus.[25]\\n\\nEvolution\\nMain article: Cat evolution\\n\\nSkulls of a wildcat (top left), a housecat (top right), and a hybrid between the two (bottom center)\\nThe domestic cat is a member of the Felidae, a family that has a common ancestor from about 10 to 15 million years ago.[26] The evolutionary radiation of the Felidae began in Asia during the Miocene around 8.38 to 14.45 million years ago.[27] Analysis of mitochondrial DNA of all Felidae species indicates a radiation at 6.46 to 16.76 million years ago.[28] The genus Felis genetically diverged from other Felidae around 6 to 7 million years ago.[27] Results of phylogenetic research shows that the wild members of this genus evolved through sympatric or parapatric speciation, whereas the domestic cat evolved through artificial selection.[29] The domestic cat and its closest wild ancestor are diploid and both possess 38 chromosomes[30] and roughly 20,000 genes.[31]\\n\\nPhylogenetic relationships of the domestic cat as derived through analysis of\\nnuclear DNA:[27][28]\\nFelidae\\t\\nPantherinae\\n\\nFelinae\\t\\nother Felinae lineages\\n\\nFelis\\t\\nJungle cat (F. chaus) \\n\\nBlack-footed cat (F. nigripes)\\n\\nSand cat (F. margarita)\\n\\nChinese mountain cat (F. bieti)\\n\\nAfrican wildcat (F. lybica)\\n\\nEuropean wildcat (F. silvestris) \\n\\nDomestic cat \\n\\nmitochondrial DNA:[32]\\nFelis\\t\\nSand cat (F. margarita)\\n\\nChinese mountain cat (F. bieti)\\n\\nEuropean wildcat (F. silvestris) \\n\\nAfrican wildcat\\t\\nSouthern African wildcat (F. l. cafra)\\n\\nAsiatic wildcat (F. l. ornata)\\n\\nNear Eastern wildcat\\n\\nDomestic cat \\n\\nDomestication\\nSee also: Domestication of the cat and Cats in ancient Egypt\\n\\nA cat eats a fish under a chair, in a mural in an Egyptian tomb dating to the 15th century BC.\\nIt was long thought that the domestication of the cat began in ancient Egypt, where cats were venerated from around 3100 BC.[33][34] However, the earliest known indication for the taming of an African wildcat was excavated close by a human Neolithic grave in Shillourokambos, southern Cyprus, dating to about 7500–7200 BC. Since there is no evidence of native mammalian fauna on Cyprus, the inhabitants of this Neolithic village most likely brought the cat and other wild mammals to the island from the Middle Eastern mainland.[35] Scientists therefore assume that African wildcats were attracted to early human settlements in the Fertile Crescent by rodents, in particular the house mouse (Mus musculus), and were tamed by Neolithic farmers. This mutual relationship between early farmers and tamed cats lasted thousands of years. As agricultural practices spread, so did tame and domesticated cats.[32][36] Wildcats of Egypt contributed to the maternal gene pool of the domestic cat at a later time.[37]\\n\\nThe earliest known evidence for the occurrence of the domestic cat in Greece dates to around 1200 BC. Greek, Phoenician, Carthaginian and Etruscan traders introduced domestic cats to southern Europe.[38] By the 5th century BC, they were familiar animals around settlements in Magna Graecia and Etruria.[39] During the Roman Empire, they were introduced to Corsica and Sardinia before the beginning of the 1st century AD.[40] By the end of the Western Roman Empire in the 5th century, the Egyptian domestic cat lineage had arrived in a Baltic Sea port in northern Germany.[37]\\n\\nThe leopard cat (Prionailurus bengalensis) was tamed independently in China around 5500 BC. This line of partially domesticated cats leaves no trace in the domestic cat populations of today.[41]\\n\\nDuring domestication, cats have undergone only minor changes in anatomy and behavior, and they are still capable of surviving in the wild. Several natural behaviors and characteristics of wildcats may have pre-adapted them for domestication as pets. These traits include their small size, social nature, obvious body language, love of play, and high intelligence. Their rigorous grooming habits and instinct to bury their bodily waste make them generally much less messy than other domesticated animals. Captive Leopardus cats may also display affectionate behavior toward humans but are not domesticated.[42] House cats may mate with feral cats.[43] Hybridization between domestic and other Felinae species is also possible, producing hybrids such as the Kellas cat in Scotland.[44][45]\\n\\nDevelopment of cat breeds started in the mid 19th century.[46] An analysis of the domestic cat genome revealed that the ancestral wildcat genome was significantly altered in the process of domestication, as specific mutations were selected to develop cat breeds.[47] Most breeds are founded on random-bred domestic cats. Genetic diversity of these breeds varies between regions, and is lowest in purebred populations, which show more than 20 deleterious genetic disorders.[48]\\n\\nCharacteristics\\nMain article: Cat anatomy\\nSize\\n\\nDiagram of the general anatomy of a male domestic cat\\nThe domestic cat has a smaller skull and shorter bones than the European wildcat.[49] It averages about 46 cm (18 in) in head-to-body length and 23–25 cm (9.1–9.8 in) in height, with about 30 cm (12 in) long tails. Males are larger than females.[50] Adult domestic cats typically weigh 4–5 kg (8.8–11.0 lb).[29]\\n\\nSkeleton\\nCats have seven cervical vertebrae (as do most mammals); 13 thoracic vertebrae (humans have 12); seven lumbar vertebrae (humans have five); three sacral vertebrae (as do most mammals, but humans have five); and a variable number of caudal vertebrae in the tail (humans have only three to five vestigial caudal vertebrae, fused into an internal coccyx).[51]:\\u200a11\\u200a The extra lumbar and thoracic vertebrae account for the cat\\'s spinal mobility and flexibility. Attached to the spine are 13 ribs, the shoulder, and the pelvis.[51]:\\u200a16\\u200a Unlike human arms, cat forelimbs are attached to the shoulder by free-floating clavicle bones which allow them to pass their body through any space into which they can fit their head.[52]\\n\\nSkull\\n\\nCat skull\\nThe cat skull is unusual among mammals in having very large eye sockets and a powerful specialized jaw.[53]:\\u200a35\\u200a Two long canine teeth for killing and tearing prey, can stab between two of the prey\\'s vertebrae and sever its spinal cord, causing paralysis and death.[54] Compared to other felines, domestic cats have narrowly spaced canine teeth relative to the size of their jaw, which is an adaptation to their preferred prey of small rodents, which have small vertebrae.[54]\\n\\nThe premolar and first molar together compose the carnassial pair on each side of the mouth, which efficiently shears meat into small pieces, like a pair of scissors. These are vital in feeding, because cats\\' small molars cannot chew food effectively, and cats are largely incapable of mastication.[53]:\\u200a37\\u200a Cats tend to have better dental health than most humans, with decay generally less likely because of a thicker protective layer of enamel, a less damaging saliva, less retention of food particles between teeth, and a diet mostly devoid of sugar. Nonetheless, they are subject to occasional tooth loss and infection.[55]\\n\\nClaws\\n\\nCat\\'s claw\\nCats have protractible and retractable claws.[56] In their normal, relaxed position, the claws are sheathed with the skin and fur around the paw\\'s toe pads. This keeps the claws sharp by preventing wear from contact with the ground and allows for the silent stalking of prey. The claws on the forefeet are typically sharper than those on the hindfeet.[57] Cats can voluntarily extend their claws, such as in hunting, fighting, climbing, kneading, or for extra traction on soft surfaces. Cats shed the outside layer of their claw sheaths when scratching rough surfaces.[58]\\n\\nMost cats have five claws on their front paws and four on their rear paws. The dewclaw is proximal to the other claws. More proximally is a protrusion which appears to be a sixth \"finger\". This special feature of the front paws on the inside of the wrists has no function in normal walking but is thought to be an antiskidding device used while jumping. Some cat breeds are prone to having extra digits (\"polydactyly\").[59]\\n\\nAmbulation\\nThe cat is digitigrade. It walks on the toes, with the bones of the feet making up the lower part of the visible leg.[60] Unlike most mammals, it uses a \"pacing\" gait that alternates both legs together on each side. It registers directly by placing each hind paw close to the track of the corresponding fore paw, minimizing noise and visible tracks. This also provides sure footing for hind paws when navigating rough terrain. As it speeds up from walking to trotting, its gait changes to a \"diagonal\" gait: The diagonally opposite hind and fore legs move simultaneously.[61]\\n\\nBalance\\n\\nA cat perched on a tree branch, having climbed up for exploration, escape, or hunting.\\nCats are generally fond of perching in high places. This may be a concealed hunting site such as a tree branch, for domestic cats to pounce upon prey. They favor a superior observation point over territory. A cat falling from up to 3 m (9.8 ft) can right itself and land on its paws.[62]\\n\\nDuring a lofty fall, a cat reflexively twists and rights itself to land on its feet using its acute sense of balance and flexibility. This reflex is known as the cat righting reflex.[63] A cat always rights itself in the same way, and it has enough time in falls of at least 90 cm (3.0 ft).[64] This has been investigated as the \"falling cat problem\".[65]\\n\\nCoats\\nMain article: Cat coat genetics\\nSee also: Tabby cat\\n\\nMother cat with her different-colored offspring\\nThe cat family (Felidae) can pass down many colors and patterns to their offspring. The domestic cat genes MC1R and ASIP allow color variety in their coats. The feline ASIP gene consists of three coding exons.[66] Three novel microsatellite markers linked to ASIP were isolated from a domestic cat BAC clone containing this gene to perform linkage analysis on 89 domestic cats segregated for melanism. The domestic cat family demonstrated a cosegregation between the ASIP allele and coat black coloration.[67]\\n\\nSenses\\nMain article: Cat senses\\nVision\\nA tabby cat with a third, translucent eyelid covering part of either eye\\nA cat\\'s nictitating membrane is exposed as it blinks.\\nCats have excellent night vision and can see at one sixth the light level required for human vision.[53]:\\u200a43\\u200a This is partly the result of cat eyes having a tapetum lucidum, which reflects any light that passes through the retina back into the eye, thereby increasing the eye\\'s sensitivity to dim light.[68] Large pupils are an adaptation to dim light. The domestic cat has slit pupils, which allow it to focus bright light without chromatic aberration.[69] At low light, a cat\\'s pupils expand to cover most of the exposed surface of its eyes.[70] The domestic cat has rather poor color vision and only two types of cone cells, optimized for sensitivity to blue and yellowish green; its ability to distinguish between red and green is limited.[71] A response to middle wavelengths from a system other than the rod cells might be due to a third type of cone. This appears to be an adaptation to low light levels rather than representing true trichromatic vision.[72] Cats have a nictitating membrane, allowing them to blink without hindering their vision.\\n\\nHearing\\nThe domestic cat\\'s hearing is most acute in the range of 500 Hz to 32 kHz.[73] It can detect an extremely broad range of frequencies ranging from 55 Hz to 79 kHz, whereas humans can only detect frequencies between 20 Hz and 20 kHz. It can hear a range of 10.5 octaves, compared to about 9 octaves for humans and dogs.[74][75] Its hearing sensitivity is enhanced by its large movable outer ears, the pinnae, which amplify sounds and help detect the location of a noise. It can detect ultrasound, including ultrasonic calls from rodent prey.[76][77] Research has shown that cats have socio-spatial cognitive abilities to create mental maps of familiar people\\'s locations based on hearing their voices.[78]\\n\\nSmell\\nCats have an acute sense of smell, due in part to their well-developed olfactory bulb and a large surface of olfactory mucosa, about 5.8 cm2 (0.90 in2) in area, which is about twice that of humans.[79] Cats and many other animals have a Jacobson\\'s organ in their mouths that is used in the behavioral process of flehmening. It allows them to sense certain aromas in a way that humans cannot. Cats are sensitive to pheromones such as 3-mercapto-3-methylbutan-1-ol,[80] which they use to communicate through urine spraying and marking with scent glands.[81] Many cats also respond strongly to plants that contain nepetalactone, especially catnip, which they can detect at less than one part per billion.[82] About 70–80% of cats are affected by nepetalactone.[83] This response is also produced by other plants, such as silver vine (Actinidia polygama) and the herb valerian; it may be caused by the smell of these plants mimicking a pheromone and stimulating cats\\' social or sexual behaviors.[84]\\n\\nTaste\\nCats have about 470 taste buds, compared to more than 9,000 on the human tongue.[85] Domestic and wild cats share a taste receptor gene mutation that keeps their sweet taste buds from binding to sugary molecules, leaving them with no ability to taste sweetness.[86] But they do have taste bud receptors specialized for acids, amino acids such as the constituents of protein, and bitter tastes.[87]\\n\\nCats\\' taste buds possess the receptors needed to detect umami. However, these receptors contain molecular changes that make them taste umami differently from humans. In humans, they detect the amino acids glutamic acid and aspartic acid; but in cats, they instead detect inosine monophosphate and histidine.[88] These molecules are particularly enriched in tuna.[88] Researchers argue why cats find tuna so palatable: \"the specific combination of the high IMP and free histidine contents of tuna, which produces a strong umami taste synergy that is highly preferred by cats.\"[88] One researcher said, \"I think umami is as important for cats as sweet is for humans.\"[89]\\n\\nCats distinctly prefer food temperature around 38 °C (100 °F), similar to a fresh kill. Some cats reject cold food, which would signal to the cat that the prey is long dead and therefore possibly toxic or decomposing.[85]',\n",
       " 'number': (10,),\n",
       " 'subject': ('Cat study',),\n",
       " 'tone': 'VERY HARD',\n",
       " 'response_json': '{\"1\": {\"mcq\": \"multiple choice question\", \"options\": {\"a\": \"choice here\", \"b\": \"choice here\", \"c\": \"choice here\", \"d\": \"choice here\"}, \"correct\": \"correct answer\"}, \"2\": {\"mcq\": \"multiple choice question\", \"options\": {\"a\": \"choice here\", \"b\": \"choice here\", \"c\": \"choice here\", \"d\": \"choice here\"}, \"correct\": \"correct answer\"}, \"3\": {\"mcq\": \"multiple choice question\", \"options\": {\"a\": \"choice here\", \"b\": \"choice here\", \"c\": \"choice here\", \"d\": \"choice here\"}, \"correct\": \"correct answer\"}, \"4\": {\"mcq\": \"multiple choice question\", \"options\": {\"a\": \"choice here\", \"b\": \"choice here\", \"c\": \"choice here\", \"d\": \"choice here\"}, \"correct\": \"correct answer\"}}',\n",
       " 'quiz': '{\"1\": {\"mcq\": \"What is the scientific name for the domestic cat?\", \"options\": {\"a\": \"Felis lybica\", \"b\": \"Felis catus\", \"c\": \"Felis silvestris\", \"d\": \"Felis daemon\"}, \"correct\": \"b\"}, \"2\": {\"mcq\": \"Which gene is linked to coat color variation in domestic cats?\", \"options\": {\"a\": \"MC1R\", \"b\": \"ASIP\", \"c\": \"Felis\", \"d\": \"Proto-Uralic\"}, \"correct\": \"b\"}, \"3\": {\"mcq\": \"At what age did the domestication of cats begin according to archaeological findings?\", \"options\": {\"a\": \"3100 BC\", \"b\": \"7500 BC\", \"c\": \"5500 BC\", \"d\": \"1200 BC\"}, \"correct\": \"b\"}, \"4\": {\"mcq\": \"What term describes a group of cats?\", \"options\": {\"a\": \"Pack\", \"b\": \"Clowder\", \"c\": \"Colony\", \"d\": \"Glaring\"}, \"correct\": \"b\"}, \"5\": {\"mcq\": \"What is the average weight range of an adult domestic cat?\", \"options\": {\"a\": \"2-4 kg\", \"b\": \"4-5 kg\", \"c\": \"5-7 kg\", \"d\": \"7-10 kg\"}, \"correct\": \"b\"}, \"6\": {\"mcq\": \"Which of the following senses is most acute in domestic cats?\", \"options\": {\"a\": \"Taste\", \"b\": \"Vision\", \"c\": \"Hearing\", \"d\": \"Touch\"}, \"correct\": \"c\"}, \"7\": {\"mcq\": \"What reflex allows cats to right themselves during a fall?\", \"options\": {\"a\": \"Balance reflex\", \"b\": \"Righting reflex\", \"c\": \"Falling reflex\", \"d\": \"Pouncing reflex\"}, \"correct\": \"b\"}, \"8\": {\"mcq\": \"Which of the following behaviors is NOT typically associated with domestic cats?\", \"options\": {\"a\": \"Hunting in packs\", \"b\": \"Purring\", \"c\": \"Meowing\", \"d\": \"Trilling\"}, \"correct\": \"a\"}, \"9\": {\"mcq\": \"Which of the following is a common cause of the global feral cat population increase?\", \"options\": {\"a\": \"Increased breeding programs\", \"b\": \"Pet abandonment\", \"c\": \"Natural disasters\", \"d\": \"Wildlife conservation efforts\"}, \"correct\": \"b\"}, \"10\": {\"mcq\": \"Which ancient civilization is often mistakenly credited with the domestication of cats?\", \"options\": {\"a\": \"Greece\", \"b\": \"Egypt\", \"c\": \"China\", \"d\": \"Rome\"}, \"correct\": \"b\"}}',\n",
       " 'review': \"**Complexity Analysis:**  \\nThe quiz questions are moderately complex, requiring specific knowledge about cat biology, history, and behavior. While some questions are accessible, others may challenge students' understanding of genetics and archaeological timelines, which may not align with their cognitive abilities.\\n\\n**Recommended Changes:**\\n\\n1. **Question 2:**  \\n   *Original:* Which gene is linked to coat color variation in domestic cats?  \\n   *Revised:* What affects the color of a cat's fur?  \\n   *Options:*  \\n   a) Food  \\n   b) Genes  \\n   c) Exercise  \\n   d) Age  \\n   *Correct:* b\\n\\n2. **Question 3:**  \\n   *Original:* At what age did the domestication of cats begin according to archaeological findings?  \\n   *Revised:* How long ago did people start keeping cats as pets?  \\n   *Options:*  \\n   a) About 3,000 years  \\n   b) About 7,000 years  \\n   c) About 5,000 years  \\n   d) About 1,200 years  \\n   *Correct:* b\\n\\n3. **Question 9:**  \\n   *Original:* Which of the following is a common cause of the global feral cat population increase?  \\n   *Revised:* Why are there so many stray cats today?  \\n   *Options:*  \\n   a) More people adopting pets  \\n   b) People leaving pets behind  \\n   c) Cats running away  \\n   d) More cat food available  \\n   *Correct:* b\\n\\n**Tone Adjustment:**  \\nThe revised questions use simpler language and concepts, making them more relatable and understandable for students. The focus is on general knowledge rather than specific scientific terminology, which aligns better with their cognitive abilities.\"}"
      ]
     },
     "execution_count": 138,
     "metadata": {},
     "output_type": "execute_result"
    }
   ],
   "source": [
    "response"
   ]
  },
  {
   "cell_type": "code",
   "execution_count": 139,
   "id": "81d4d997",
   "metadata": {},
   "outputs": [],
   "source": [
    "quiz=response.get(\"quiz\")"
   ]
  },
  {
   "cell_type": "code",
   "execution_count": 140,
   "id": "af6057f3",
   "metadata": {},
   "outputs": [],
   "source": [
    "quiz=json.loads(quiz)"
   ]
  },
  {
   "cell_type": "code",
   "execution_count": 141,
   "id": "fe337349",
   "metadata": {},
   "outputs": [],
   "source": [
    "quiz_table_data=[]\n",
    "for key,value in quiz.items():\n",
    "    mcq=value[\"mcq\"]\n",
    "    options=\" | \".join(\n",
    "        [\n",
    "            f\"{option}: {option_value}\"\n",
    "            for option,option_value in value[\"options\"].items()\n",
    "        ]\n",
    "    )\n",
    "    correct= value[\"correct\"]\n",
    "    quiz_table_data.append({\"MCQ\":mcq,\"Choices\":options,\"Correct\":correct})"
   ]
  },
  {
   "cell_type": "code",
   "execution_count": 142,
   "id": "1dc65e1b",
   "metadata": {},
   "outputs": [
    {
     "data": {
      "text/plain": [
       "[{'MCQ': 'What is the scientific name for the domestic cat?',\n",
       "  'Choices': 'a: Felis lybica | b: Felis catus | c: Felis silvestris | d: Felis daemon',\n",
       "  'Correct': 'b'},\n",
       " {'MCQ': 'Which gene is linked to coat color variation in domestic cats?',\n",
       "  'Choices': 'a: MC1R | b: ASIP | c: Felis | d: Proto-Uralic',\n",
       "  'Correct': 'b'},\n",
       " {'MCQ': 'At what age did the domestication of cats begin according to archaeological findings?',\n",
       "  'Choices': 'a: 3100 BC | b: 7500 BC | c: 5500 BC | d: 1200 BC',\n",
       "  'Correct': 'b'},\n",
       " {'MCQ': 'What term describes a group of cats?',\n",
       "  'Choices': 'a: Pack | b: Clowder | c: Colony | d: Glaring',\n",
       "  'Correct': 'b'},\n",
       " {'MCQ': 'What is the average weight range of an adult domestic cat?',\n",
       "  'Choices': 'a: 2-4 kg | b: 4-5 kg | c: 5-7 kg | d: 7-10 kg',\n",
       "  'Correct': 'b'},\n",
       " {'MCQ': 'Which of the following senses is most acute in domestic cats?',\n",
       "  'Choices': 'a: Taste | b: Vision | c: Hearing | d: Touch',\n",
       "  'Correct': 'c'},\n",
       " {'MCQ': 'What reflex allows cats to right themselves during a fall?',\n",
       "  'Choices': 'a: Balance reflex | b: Righting reflex | c: Falling reflex | d: Pouncing reflex',\n",
       "  'Correct': 'b'},\n",
       " {'MCQ': 'Which of the following behaviors is NOT typically associated with domestic cats?',\n",
       "  'Choices': 'a: Hunting in packs | b: Purring | c: Meowing | d: Trilling',\n",
       "  'Correct': 'a'},\n",
       " {'MCQ': 'Which of the following is a common cause of the global feral cat population increase?',\n",
       "  'Choices': 'a: Increased breeding programs | b: Pet abandonment | c: Natural disasters | d: Wildlife conservation efforts',\n",
       "  'Correct': 'b'},\n",
       " {'MCQ': 'Which ancient civilization is often mistakenly credited with the domestication of cats?',\n",
       "  'Choices': 'a: Greece | b: Egypt | c: China | d: Rome',\n",
       "  'Correct': 'b'}]"
      ]
     },
     "execution_count": 142,
     "metadata": {},
     "output_type": "execute_result"
    }
   ],
   "source": [
    "quiz_table_data"
   ]
  },
  {
   "cell_type": "code",
   "execution_count": 143,
   "id": "04a707ec",
   "metadata": {},
   "outputs": [],
   "source": [
    "quiz=pd.DataFrame(quiz_table_data)"
   ]
  },
  {
   "cell_type": "code",
   "execution_count": 144,
   "id": "8f4a737b",
   "metadata": {},
   "outputs": [],
   "source": [
    "quiz.to_csv(\"machinelearning.csv\",index=False)"
   ]
  },
  {
   "cell_type": "code",
   "execution_count": null,
   "id": "0652dbd2",
   "metadata": {},
   "outputs": [],
   "source": []
  },
  {
   "cell_type": "markdown",
   "id": "90e7101d",
   "metadata": {},
   "source": []
  }
 ],
 "metadata": {
  "kernelspec": {
   "display_name": "Python 3",
   "language": "python",
   "name": "python3"
  },
  "language_info": {
   "codemirror_mode": {
    "name": "ipython",
    "version": 3
   },
   "file_extension": ".py",
   "mimetype": "text/x-python",
   "name": "python",
   "nbconvert_exporter": "python",
   "pygments_lexer": "ipython3",
   "version": "3.8.20"
  }
 },
 "nbformat": 4,
 "nbformat_minor": 5
}
